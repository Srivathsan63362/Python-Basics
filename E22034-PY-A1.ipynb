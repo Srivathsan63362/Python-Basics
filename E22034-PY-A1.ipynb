{
 "cells": [
  {
   "cell_type": "markdown",
   "metadata": {},
   "source": [
    "## Name: Srivathsan B                 &                                    Student ID: E22034    \n"
   ]
  },
  {
   "cell_type": "markdown",
   "metadata": {},
   "source": [
    "## 1. Ramesh’s basic salary is input through the keyboard. His dearness allowance is 40% of basic salary, and house rent allowance is 20% of basic salary. Write a program to calculate his gross salary"
   ]
  },
  {
   "cell_type": "code",
   "execution_count": 1,
   "metadata": {},
   "outputs": [
    {
     "name": "stdout",
     "output_type": "stream",
     "text": [
      "Enter the Basic Salary: 152500\n",
      "\n",
      "\n",
      "Ramesh's Gross Salary is :  244000.0\n"
     ]
    }
   ],
   "source": [
    "# taking input from keyboard\n",
    "BS = int(input(\"Enter the Basic Salary: \"))\n",
    "\n",
    "# formula\n",
    "DA = (BS*40)/100\n",
    "RA = (BS*20)/100\n",
    "\n",
    "GrossSalary = (BS+DA+RA)\n",
    "\n",
    "print(\"\\n\")\n",
    "print(\"Ramesh's Gross Salary is : \", GrossSalary)\n"
   ]
  },
  {
   "cell_type": "markdown",
   "metadata": {},
   "source": [
    "## 2. The distance between two cities (in km.) is input through the keyboard.Write a program to convert and print this distance in meters, feet, inches and centimeters."
   ]
  },
  {
   "cell_type": "code",
   "execution_count": 2,
   "metadata": {},
   "outputs": [
    {
     "name": "stdout",
     "output_type": "stream",
     "text": [
      "Enter the Distance between two Cities: 52\n",
      "\n",
      "\n",
      "Distance in Meters :  52000\n",
      "\n",
      "\n",
      "Distance in feet :  170601.6\n",
      "\n",
      "\n",
      "Distance in inches :  2047243.64\n",
      "\n",
      "\n",
      "Distance in centimeters :  5200000\n"
     ]
    }
   ],
   "source": [
    "Dist = int(input(\"Enter the Distance between two Cities: \"))\n",
    "\n",
    "Dist_meters = (Dist*1000)\n",
    "print(\"\\n\")\n",
    "print(\"Distance in Meters : \", Dist_meters)\n",
    "\n",
    "Dist_feet = (Dist*3280.8)\n",
    "print(\"\\n\")\n",
    "print(\"Distance in feet : \", Dist_feet)\n",
    "\n",
    "Dist_inches = (Dist*39370.07)\n",
    "print(\"\\n\")\n",
    "print(\"Distance in inches : \", Dist_inches)\n",
    "\n",
    "Dist_centimeters = (Dist*100000)\n",
    "print(\"\\n\")\n",
    "print(\"Distance in centimeters : \", Dist_centimeters)\n",
    "\n",
    "\n",
    "# How to give unit value back of the values.\n"
   ]
  },
  {
   "cell_type": "markdown",
   "metadata": {},
   "source": [
    "## 3. If the marks obtained by a student in five different subjects are input through the keyboard, find out the aggregate marks and percentage marks obtained by the student.Assume that the maximum marks that can be obtained by a student in each subject is 100."
   ]
  },
  {
   "cell_type": "code",
   "execution_count": 3,
   "metadata": {},
   "outputs": [
    {
     "name": "stdout",
     "output_type": "stream",
     "text": [
      "Enter the Marks obtained in Subject 1 :  52\n",
      "Enter the Marks obtained in Subject 2 :  63\n",
      "Enter the Marks obtained in Subject 3 :  45\n",
      "Enter the Marks obtained in Subject 4 :  89\n",
      "Enter the Marks obtained in Subject 5 :  100\n",
      "\n",
      "\n",
      "Aggregate marks obtained by the student:  349\n",
      "\n",
      "\n",
      "Percentage marks obtained by the student:  69.8\n"
     ]
    }
   ],
   "source": [
    "Subject_1 = int(input(\"Enter the Marks obtained in Subject 1 :  \"))\n",
    "Subject_2 = int(input(\"Enter the Marks obtained in Subject 2 :  \"))\n",
    "Subject_3 = int(input(\"Enter the Marks obtained in Subject 3 :  \"))\n",
    "Subject_4 = int(input(\"Enter the Marks obtained in Subject 4 :  \"))\n",
    "Subject_5 = int(input(\"Enter the Marks obtained in Subject 5 :  \"))\n",
    "\n",
    "Aggregatemarks = ((Subject_1 + Subject_2 + Subject_3 + Subject_4 + Subject_5))\n",
    "print(\"\\n\")\n",
    "print(\"Aggregate marks obtained by the student: \", Aggregatemarks)\n",
    "\n",
    "Percentagemarks = ((Aggregatemarks*100)/500)\n",
    "print(\"\\n\")\n",
    "print(\"Percentage marks obtained by the student: \", Percentagemarks)\n",
    "\n",
    "\n",
    "# Ask Sir  % Marrk "
   ]
  },
  {
   "cell_type": "markdown",
   "metadata": {},
   "source": [
    "## 4. Temperature of a city in Fahrenheit degrees is input through the keyboard. Write a program to convert this temperature into Centigrade degrees."
   ]
  },
  {
   "cell_type": "code",
   "execution_count": null,
   "metadata": {},
   "outputs": [],
   "source": [
    "Fahrenheitdegrees = float(input(\"Enter the Temperature of the city : \"))\n",
    "\n",
    "centigradedegrees = ((Fahrenheitdegrees - 32) * 5/9)\n",
    "print(\"\\n\")\n",
    "print(\"Temperature of the city in centigrade degrees is : \", centigradedegrees)\n"
   ]
  },
  {
   "cell_type": "markdown",
   "metadata": {},
   "source": [
    "## 5. The length & breadth of a rectangle and radius of a circle are input through the keyboard. Write a program to calculate the area & perimeter of the rectangle, and the area & circumference of the circle."
   ]
  },
  {
   "cell_type": "code",
   "execution_count": null,
   "metadata": {},
   "outputs": [],
   "source": [
    "R_L= float(input(\"Enter the Length of the rectangle in m unit: \"))\n",
    "R_B= float(input(\"Enter the Breadth of the rectangle in m unit: \"))\n",
    "C_R= float(input(\"Enter the radius of the circle in m unit: \"))\n",
    "\n",
    "Areaofrectangle = (R_L * R_B)\n",
    "Perimeterofrectangle = ((2*R_L)+(2*R_B))\n",
    "Areaofcircle = (3.14*(C_R**2))\n",
    "Circumferenceofcircle = (2*3.14*C_R)\n",
    "print(\"\\n\")\n",
    "print(\"Area of the given rectangle in m^2 : \", Areaofrectangle)\n",
    "print(\"\\n\")\n",
    "print(\"Perimeter of the given rectangle in m : \",Perimeterofrectangle)\n",
    "print(\"\\n\")\n",
    "print(\"Area of the given cicle in m^2 : \",Areaofcircle)\n",
    "print(\"\\n\")\n",
    "print(\"Circumference of the given cicle in m : \",Circumferenceofcircle)"
   ]
  },
  {
   "cell_type": "markdown",
   "metadata": {},
   "source": [
    "## 6.Two numbers are input through the keyboard into two locations C and D. Write a program to interchange the contents of C and D."
   ]
  },
  {
   "cell_type": "code",
   "execution_count": 2,
   "metadata": {},
   "outputs": [
    {
     "name": "stdout",
     "output_type": "stream",
     "text": [
      "Enter number 1: 100\n",
      "Enter number 2: 200\n",
      "\n",
      "\n",
      "The number after interchange in C is:  200.0\n",
      "The number after interchange in D is:  100.0\n"
     ]
    }
   ],
   "source": [
    "num_1 = float(input(\"Enter number 1: \"))\n",
    "num_2 = float(input(\"Enter number 2: \"))\n",
    "\n",
    "C = num_1\n",
    "D = num_2\n",
    "\n",
    "C = C + D\n",
    "D = C - D\n",
    "C = C - D\n",
    "\n",
    "print(\"\\n\")\n",
    "print(\"The number after interchange in C is: \", C)\n",
    "print(\"The number after interchange in D is: \", D)"
   ]
  },
  {
   "cell_type": "markdown",
   "metadata": {},
   "source": [
    "## 7. If a five-digit number is input through the keyboard, write a program to reverse the number."
   ]
  },
  {
   "cell_type": "code",
   "execution_count": 1,
   "metadata": {},
   "outputs": [
    {
     "name": "stdout",
     "output_type": "stream",
     "text": [
      "The Reverse of number is : 54321\n"
     ]
    }
   ],
   "source": [
    "x = 12345\n",
    "a = int(x%10)\n",
    "b = int(x%100/10)\n",
    "c = int(x%1000/100)\n",
    "d = int(x%10000/1000)\n",
    "e = int(x%100000/10000)\n",
    "Reverse = (a*10000 + b*1000+ c*100+ d*10+ e)\n",
    "\n",
    "print(\"The Reverse of number is :\",Reverse)\n"
   ]
  },
  {
   "cell_type": "markdown",
   "metadata": {},
   "source": [
    "## 8. If a four-digit number is input through the keyboard, write a program to obtain the sum of the first and last digit of this number."
   ]
  },
  {
   "cell_type": "code",
   "execution_count": 2,
   "metadata": {},
   "outputs": [
    {
     "name": "stdout",
     "output_type": "stream",
     "text": [
      "Enter the four digit number: 3658\n",
      "\n",
      "\n",
      "The sum of first and last digit number is:  11\n"
     ]
    }
   ],
   "source": [
    "X = int(input(\"Enter the four digit number: \"))\n",
    "\n",
    "a = int(X%10)\n",
    "b = int(X%100/10)\n",
    "c = int(X%1000/100)\n",
    "d = int(X%10000/1000)\n",
    "\n",
    "finalsum = (a + d)\n",
    "\n",
    "print(\"\\n\")\n",
    "print(\"The sum of first and last digit number is: \", finalsum)"
   ]
  },
  {
   "cell_type": "markdown",
   "metadata": {},
   "source": [
    "## 9. In a town, the percentage of men is 52. The percentage of total literacy is 48. If total percentage of literate men is 35 of the total population, write a program to find the total number of illiterate men and women if the population of the town is 80,000."
   ]
  },
  {
   "cell_type": "code",
   "execution_count": 3,
   "metadata": {},
   "outputs": [
    {
     "name": "stdout",
     "output_type": "stream",
     "text": [
      "The total number of illiterate men is:  13600.0\n",
      "The totalnumber of illiterate women is:  28000.0\n"
     ]
    }
   ],
   "source": [
    "Population = 80000\n",
    "Men = (52/100)*80000\n",
    "Women = Population - Men\n",
    "TotalLiteracy = (48/100)*80000\n",
    "TotalLiterate_Men = (35/100)*80000\n",
    "TotalLiterate_Women = (TotalLiteracy - TotalLiterate_Men)\n",
    "TotalIlliterate_Men = (Men - TotalLiterate_Men)\n",
    "TotalIlliterate_Women = (Women - TotalLiterate_Women )\n",
    "\n",
    "print(\"The total number of illiterate men is: \",TotalIlliterate_Men)\n",
    "print(\"The totalnumber of illiterate women is: \",TotalIlliterate_Women)\n",
    "\n",
    "\n"
   ]
  },
  {
   "cell_type": "code",
   "execution_count": null,
   "metadata": {},
   "outputs": [],
   "source": []
  }
 ],
 "metadata": {
  "kernelspec": {
   "display_name": "Python 3",
   "language": "python",
   "name": "python3"
  },
  "language_info": {
   "codemirror_mode": {
    "name": "ipython",
    "version": 3
   },
   "file_extension": ".py",
   "mimetype": "text/x-python",
   "name": "python",
   "nbconvert_exporter": "python",
   "pygments_lexer": "ipython3",
   "version": "3.7.6"
  }
 },
 "nbformat": 4,
 "nbformat_minor": 4
}
